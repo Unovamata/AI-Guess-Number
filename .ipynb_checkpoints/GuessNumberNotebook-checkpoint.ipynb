{
 "cells": [
  {
   "cell_type": "code",
   "execution_count": 2,
   "id": "8da6b0e2-21f4-4638-a803-70e0c57ed724",
   "metadata": {},
   "outputs": [],
   "source": [
    "import matplotlib.pyplot as plot\n",
    "import os\n",
    "import numpy, os, pandas, shutil\n",
    "\n",
    "#SciLearn-Kit\n",
    "from sklearn.metrics import ConfusionMatrixDisplay, classification_report, confusion_matrix\n",
    "from sklearn.model_selection import train_test_split\n",
    "\n",
    "# TensorFlow\n",
    "from tensorflow import keras\n",
    "import tensorflow as tf\n",
    "\n",
    "#ZipFile\n",
    "from zipfile import ZipFile\n",
    "\n",
    "%matplotlib inline"
   ]
  },
  {
   "cell_type": "code",
   "execution_count": 8,
   "id": "9e39c83c-2cf4-41c8-abf8-69a3479b7a5c",
   "metadata": {},
   "outputs": [
    {
     "name": "stdout",
     "output_type": "stream",
     "text": [
      "C:/Users/Administrator/Documents/GitHub/AI-Guess-Number/Dataset\n"
     ]
    }
   ],
   "source": [
    "BASE_DIR = os.getcwd()\n",
    "BASE_DIR = BASE_DIR.replace(os.sep, '/') + \"/Dataset\"\n",
    "print(BASE_DIR)"
   ]
  },
  {
   "cell_type": "code",
   "execution_count": null,
   "id": "cb0386a4-ac19-4d39-b868-4ea896471a7d",
   "metadata": {},
   "outputs": [],
   "source": []
  }
 ],
 "metadata": {
  "kernelspec": {
   "display_name": "Python 3 (ipykernel)",
   "language": "python",
   "name": "python3"
  },
  "language_info": {
   "codemirror_mode": {
    "name": "ipython",
    "version": 3
   },
   "file_extension": ".py",
   "mimetype": "text/x-python",
   "name": "python",
   "nbconvert_exporter": "python",
   "pygments_lexer": "ipython3",
   "version": "3.11.0"
  }
 },
 "nbformat": 4,
 "nbformat_minor": 5
}
